{
 "cells": [
  {
   "cell_type": "markdown",
   "id": "8436f785",
   "metadata": {},
   "source": [
    "# Conversational Chatbots"
   ]
  },
  {
   "cell_type": "markdown",
   "id": "ef894ee1",
   "metadata": {},
   "source": [
    "**What Exactly Is A Chatbot**\n",
    "\n",
    "Correct! A chatbot is indeed an AI program that simulates human conversation, either through text-based interactions or audio-based interactions. It is designed to respond to user queries or engage in conversation using natural language processing and understanding techniques. Chatbots are often used in various applications, such as customer support, information retrieval, virtual assistants, and more, to provide automated responses and services that mimic human conversational behavior.\n",
    "\n",
    "This text discusses different types of chatbots and how they are categorized based on their functionalities and capabilities. The main types of chatbots mentioned are:\n",
    "\n",
    "**Chatbots that follow predefined rules**\n",
    "\n",
    "These chatbots rely on a set of predefined rules to provide responses. They can only handle specific questions within the parameters set by the rules and are unable to process user intent outside of those boundaries. They are useful for routine actions like purchase cancellations and refund requests but lack flexibility.\n",
    "\n",
    "**Generative Chatbots** \n",
    "\n",
    "These chatbots utilize deep learning techniques to understand their environment and respond appropriately. Unlike rule-based chatbots, they are not bound by predefined responses and can handle a wide range of questions. However, they are not flawless, and their performance can vary depending on the complexity of the queries.\n",
    "\n",
    "Based on their functions, chatbots can also be further categorized into two distinct types:\n",
    "\n",
    "**Horizontal Chatbots** \n",
    "\n",
    "These chatbots are broad in scope and open-ended. They can handle overarching tasks but are not specialized enough to handle fine-grained work in specific domains. They serve as a foundation upon which more specialized bots can be built.\n",
    "\n",
    "**Vertical Chatbots** \n",
    "\n",
    "In contrast, vertical chatbots are limited to a single industry or domain. They are designed to address specific needs within that industry, such as a chatbot for physicians to inquire about medical supplies. These chatbots are not suitable for usage in other sectors.\n",
    "\n",
    "Overall, the field of chatbot development is continuously evolving, and while generative chatbots show promise, there is ongoing research to improve their capabilities and create more efficient and accurate chatbot solutions.\n",
    "\n",
    "\"The global chatbot market size was valued at USD 525.7 million in 2021 and is expected to expand at a compound annual growth rate (CAGR) of 25.7% from 2022 to 2030. The market is expected to be driven by the increasing adoption of customer service activities among enterprises in order to reduce operating costs.\n",
    "…\n",
    "\n",
    "Various innovations carried out in artificial intelligence and machine learning technologies are expected to enhance the features of chatbots. This, in turn, is expected to drive market growth in the coming years.\"\n",
    "[Read more here](https://www.grandviewresearch.com/industry-analysis/chatbot-market?ref=blog.paperspace.com)"
   ]
  },
  {
   "cell_type": "markdown",
   "id": "4867b89b",
   "metadata": {},
   "source": [
    "**Conversational AI relies on a pretrained model to understand context**\n",
    "\n",
    "Certainly! The text highlights the versatility of chatbots, which are AI programs capable of engaging in human-like conversations through text or audio interactions. Typically, these chatbots undergo extensive training using powerful GPUs on large datasets. However, if we lack the resources to conduct such training, we can leverage transfer learning. This approach involves using a pre-trained model to accomplish the task instead of starting from scratch. By using a model that has already learned from a vast amount of data, we can still achieve effective chatbot capabilities without the need for extensive training from the ground up.\n",
    "\n",
    "**Transfer learning**\n",
    "\n",
    "Transfer learning is a machine learning technique in which knowledge gained from training a model on one task is used to improve the performance of the same or a related model on a different but related task. Instead of training a model from scratch for each specific task, transfer learning allows us to utilize knowledge learned from one task and apply it to another task, thus saving time and resources."
   ]
  },
  {
   "cell_type": "markdown",
   "id": "299a61b3",
   "metadata": {},
   "source": [
    "### Hugging Face Transformers\n",
    "\n",
    "We can utilize the latest and most advanced Hugging Face library, \"transformers,\" for our project. This open-source library provides access to pre-trained models that can be effortlessly downloaded and integrated into our NLP tasks. The user-friendly interface makes it simple to work with these models, and the results they deliver are outstanding.\n",
    "\n",
    "In this section will use the BERT model, there are a tonne of other models out here on the internet. You can find out more from [Hugging face models repo](https://huggingface.co/models?ref=blog.paperspace.com)"
   ]
  },
  {
   "cell_type": "markdown",
   "id": "52c90e64",
   "metadata": {},
   "source": [
    "### Installation"
   ]
  },
  {
   "cell_type": "code",
   "execution_count": 60,
   "id": "d7021d42",
   "metadata": {},
   "outputs": [],
   "source": [
    "# !pip install transformers"
   ]
  },
  {
   "cell_type": "code",
   "execution_count": 61,
   "id": "4f3b6cdc",
   "metadata": {},
   "outputs": [],
   "source": [
    "# !pip install 'transformers[torch]'"
   ]
  },
  {
   "cell_type": "markdown",
   "id": "c5380d1a",
   "metadata": {},
   "source": [
    "### Importations"
   ]
  },
  {
   "cell_type": "code",
   "execution_count": 62,
   "id": "6367b66a",
   "metadata": {},
   "outputs": [],
   "source": [
    "#import model and tokenizer\n",
    "from transformers import AutoTokenizer\n",
    "from transformers import AutoModelForQuestionAnswering\n",
    "import torch"
   ]
  },
  {
   "cell_type": "code",
   "execution_count": 73,
   "id": "eec6be19",
   "metadata": {},
   "outputs": [
    {
     "name": "stderr",
     "output_type": "stream",
     "text": [
      "Some weights of the model checkpoint at bert-large-uncased-whole-word-masking-finetuned-squad were not used when initializing BertForQuestionAnswering: ['bert.pooler.dense.weight', 'bert.pooler.dense.bias']\n",
      "- This IS expected if you are initializing BertForQuestionAnswering from the checkpoint of a model trained on another task or with another architecture (e.g. initializing a BertForSequenceClassification model from a BertForPreTraining model).\n",
      "- This IS NOT expected if you are initializing BertForQuestionAnswering from the checkpoint of a model that you expect to be exactly identical (initializing a BertForSequenceClassification model from a BertForSequenceClassification model).\n"
     ]
    }
   ],
   "source": [
    "#pre trained Model loading\n",
    "model = AutoModelForQuestionAnswering.from_pretrained(\"bert-large-uncased-whole-word-masking-finetuned-squad\", return_dict=True)\n",
    "#loading the Tokenizer \n",
    "tokenizer = AutoTokenizer.from_pretrained(\"bert-large-uncased-whole-word-masking-finetuned-squad\")"
   ]
  },
  {
   "cell_type": "code",
   "execution_count": 74,
   "id": "3e8d8b7a",
   "metadata": {},
   "outputs": [],
   "source": [
    "shakespear_story = '''Once upon a time, in the enchanting world of Stratford-upon-Avon, there lived a gifted young poet and playwright named William Shakespeare. Born in 1564, he captivated audiences with his eloquent verses and insightful narratives. As the son of a glover, Shakespeare's humble beginnings did not deter him from pursuing his passion for the stage.'''"
   ]
  },
  {
   "cell_type": "code",
   "execution_count": 75,
   "id": "4238eefd",
   "metadata": {},
   "outputs": [],
   "source": [
    "def chatbot_GQA(input_question):\n",
    "    \n",
    "    # texts tokenization with encode_plus. ## return_tensors = \"pt means you will return pytorch tensor\n",
    "    input_token = tokenizer.encode_plus(input_question, shakespear_story, return_tensors=\"pt\")\n",
    "    \n",
    "    #obtaining scores from tokens \n",
    "    # by providing return_dict=False, you may compel the model into returning a tuple: \n",
    "    rep_str, rep_en = model(**input_token,return_dict=False)\n",
    "    # print(rep_str, rep_en)\n",
    "    \n",
    "    #getting the position\n",
    "    ## Find the beginning of the answer that is most likely to be correct using the argmax of the score. \n",
    "    pos_start = torch.argmax(rep_str)\n",
    "    \n",
    "    ## Find the end of the answer that is most likely to be correct using the argmax of the score.\n",
    "    pos_end = torch.argmax(rep_en) + 1\n",
    "    \n",
    "    #tokens conversion of id using the function convert_ids_to_tokens()\n",
    "    rep_token = tokenizer.convert_ids_to_tokens(input_token[\"input_ids\"][0][pos_start:pos_end])\n",
    "    \n",
    "    #We get the response\n",
    "    response_str: str =  tokenizer.convert_tokens_to_string(rep_token)\n",
    "        \n",
    "    return response_str"
   ]
  },
  {
   "cell_type": "code",
   "execution_count": 76,
   "id": "b91038f4",
   "metadata": {},
   "outputs": [
    {
     "data": {
      "text/plain": [
       "'1564'"
      ]
     },
     "execution_count": 76,
     "metadata": {},
     "output_type": "execute_result"
    }
   ],
   "source": [
    "question_one = \"When was shakespeare born\"\n",
    "chatbot_GQA(question_one)"
   ]
  },
  {
   "cell_type": "code",
   "execution_count": 77,
   "id": "d2b85e44",
   "metadata": {},
   "outputs": [
    {
     "data": {
      "text/plain": [
       "'william shakespeare'"
      ]
     },
     "execution_count": 77,
     "metadata": {},
     "output_type": "execute_result"
    }
   ],
   "source": [
    "question = \"Who is Shakespeare\"\n",
    "chatbot_GQA(question)"
   ]
  },
  {
   "cell_type": "code",
   "execution_count": 78,
   "id": "6eaca76e",
   "metadata": {},
   "outputs": [
    {
     "data": {
      "text/plain": [
       "'william shakespeare'"
      ]
     },
     "execution_count": 78,
     "metadata": {},
     "output_type": "execute_result"
    }
   ],
   "source": [
    "question = \"Tell me a summary story of shakespeare\"\n",
    "chatbot_GQA(question)"
   ]
  },
  {
   "cell_type": "code",
   "execution_count": 79,
   "id": "30a4fcbb",
   "metadata": {},
   "outputs": [
    {
     "data": {
      "text/plain": [
       "'stratford - upon - avon'"
      ]
     },
     "execution_count": 79,
     "metadata": {},
     "output_type": "execute_result"
    }
   ],
   "source": [
    "question = \"Where was Shakespeare born\"\n",
    "chatbot_GQA(question)"
   ]
  },
  {
   "cell_type": "code",
   "execution_count": 80,
   "id": "5036e3a5",
   "metadata": {},
   "outputs": [
    {
     "data": {
      "text/plain": [
       "'a glover'"
      ]
     },
     "execution_count": 80,
     "metadata": {},
     "output_type": "execute_result"
    }
   ],
   "source": [
    "question = \"Who was the parent of Shakespeare?\"\n",
    "chatbot_GQA(question)"
   ]
  },
  {
   "cell_type": "code",
   "execution_count": null,
   "id": "a7d34853",
   "metadata": {},
   "outputs": [],
   "source": []
  }
 ],
 "metadata": {
  "kernelspec": {
   "display_name": "Python 3 (ipykernel)",
   "language": "python",
   "name": "python3"
  },
  "language_info": {
   "codemirror_mode": {
    "name": "ipython",
    "version": 3
   },
   "file_extension": ".py",
   "mimetype": "text/x-python",
   "name": "python",
   "nbconvert_exporter": "python",
   "pygments_lexer": "ipython3",
   "version": "3.11.4"
  }
 },
 "nbformat": 4,
 "nbformat_minor": 5
}
