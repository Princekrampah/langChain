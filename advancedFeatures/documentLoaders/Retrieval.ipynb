{
 "cells": [
  {
   "cell_type": "markdown",
   "id": "493bcbe8",
   "metadata": {},
   "source": [
    "## Retrieval\n",
    "\n",
    "\n",
    "Retrieval Augmented Generation (RAG) is a model architecture that combines elements of both retrieval-based and generation-based approaches in natural language processing (NLP). It is designed to enhance the performance of language models in generating coherent and contextually relevant responses.\n",
    "\n",
    "In traditional generation-based models, such as sequence-to-sequence models or transformers, the model generates responses from scratch based on the input context. However, these models often struggle with generating accurate or contextually appropriate responses, especially when dealing with complex queries or rare topics.\n",
    "\n",
    "RAG addresses this limitation by incorporating a retrieval component into the generation process. It combines a language model with a retrieval model, typically based on dense vector representations (embeddings), such as the ones stored in a vector store. The retrieval model helps retrieve relevant passages or documents from a large knowledge source, such as a collection of documents or a search engine index.\n",
    "\n",
    "RAG models have shown promising results in various NLP tasks, including question-answering, dialogue systems, and document summarization, where the combination of generation and retrieval proves beneficial in producing high-quality outputs."
   ]
  },
  {
   "cell_type": "markdown",
   "id": "966edc3b",
   "metadata": {},
   "source": [
    "### Maximum Marginal Relevance (MMR)\n",
    "\n",
    "MMR in NLP stands for **Maximal Marginal Relevance**. It is a technique used in information retrieval and text summarization to select and rank documents or sentences based on their relevance and diversity.\n",
    "\n",
    "The goal of MMR is to create a summary or a set of results that maximizes both the relevance of the selected items to a given query and the diversity among the selected items. It aims to strike a balance between including highly relevant items and avoiding redundancy or duplication.\n",
    "\n",
    "Here's a general overview of how MMR works:\n",
    "\n",
    "1. **Relevance Scoring**, each document or sentence in the collection is initially scored for relevance to the query using a similarity measure, such as cosine similarity, BM25, or other relevance scoring methods. The higher the score, the more relevant the item is to the query.\n",
    "\n",
    "2. **Selecting the Most Relevant Item**, the item with the highest relevance score is initially selected as the most relevant item and included in the summary or result set.\n",
    "\n",
    "3. **Calculating Diversity**, to ensure diversity, MMR takes into account the similarity between the selected item and the remaining items. It calculates a diversity score by subtracting the similarity between the selected item and each remaining item from the similarity between the selected item and itself.\n",
    "\n",
    "4. **Selecting the Next Item**, The next item to be included in the summary or result set is the one with the highest MMR score, which combines relevance and diversity scores. It aims to maximize relevance while minimizing redundancy with previously selected items.\n",
    "\n",
    "5. **Iterative Selection**, the process is repeated iteratively until a predefined number of items is selected or until a stopping criterion is met. At each iteration, MMR dynamically adjusts the balance between relevance and diversity based on the selected items so far.\n",
    "\n",
    "By using MMR, text summarization systems can produce summaries that are not only informative and relevant but also diverse and non-redundant. It can help avoid repetition of information and provide a more comprehensive overview of the content. Similarly, in information retrieval systems, MMR can help present a diverse set of results that cover different aspects of the query while maintaining high relevance.\n",
    "\n",
    "MMR has been widely used in various NLP applications, including text summarization, document clustering, and result diversification in search engines, to enhance the quality and diversity of the generated summaries or selected items.\n",
    "\n",
    "**Ensuring diversity is the main importance of MMR**. The set of responses will include diversity in the semantic similarities."
   ]
  },
  {
   "cell_type": "markdown",
   "id": "79eac39c",
   "metadata": {},
   "source": [
    "### LLM Aided Retrieval\n",
    "\n",
    "LLM (Language Model)-aided retrieval is an approach that combines the power of language models with traditional retrieval methods to improve the effectiveness of information retrieval systems. It leverages the contextual understanding and language generation capabilities of large pre-trained language models, such as GPT-3, to enhance the retrieval process.\n",
    "\n",
    "By incorporating language models into the retrieval process, LLM-aided retrieval aims to capture the semantic meaning and contextual relevance of queries and documents. It allows for a more sophisticated understanding of the information needs and provides more accurate and contextually relevant results to users.\n",
    "\n",
    "LLM-aided retrieval has been successfully applied in various information retrieval tasks, including web search, question answering, and document retrieval. It enables better matching of user intent and provides improved retrieval performance by leveraging the advanced language understanding capabilities of large pre-trained models.\n",
    "\n",
    "LLM aided retrieval uses LL models to come up with best queries to find the most accurate answers possible."
   ]
  },
  {
   "cell_type": "markdown",
   "id": "da69f849",
   "metadata": {},
   "source": [
    "### Compression\n",
    "\n",
    "In the context of NLP, compression refers to the process of reducing the size or complexity of textual data while retaining its essential information. It involves techniques that aim to represent text in a more compact form, typically by removing redundancy, exploiting patterns, or utilizing specialized algorithms.\n",
    "\n",
    "However, it is important to note that compression techniques involve trade-offs. Lossy compression can lead to the loss of certain details or nuances in the text, while lossless compression may not achieve the same level of reduction in size as lossy methods.\n",
    "\n",
    "Overall, compression techniques in NLP enable more efficient storage, transmission, and processing of textual data, facilitating tasks such as data management, summarization, and information retrieval in resource-constrained environments.\n",
    "\n",
    "**Compression involves multiple calls to the LLM model which can be expensive but, optimaly leads to great results in the final run.**"
   ]
  },
  {
   "cell_type": "code",
   "execution_count": 21,
   "id": "a633d4ff",
   "metadata": {},
   "outputs": [
    {
     "name": "stdout",
     "output_type": "stream",
     "text": [
      "The dotenv extension is already loaded. To reload it, use:\n",
      "  %reload_ext dotenv\n"
     ]
    }
   ],
   "source": [
    "from dotenv import load_dotenv\n",
    "import os\n",
    "\n",
    "%load_ext dotenv\n",
    "%dotenv"
   ]
  },
  {
   "cell_type": "code",
   "execution_count": 22,
   "id": "cfb0d3df",
   "metadata": {},
   "outputs": [],
   "source": [
    "openai_api_key  = os.environ['OPANAI_API_KEY']"
   ]
  },
  {
   "cell_type": "code",
   "execution_count": 27,
   "id": "e25e13fa",
   "metadata": {},
   "outputs": [],
   "source": [
    "from langchain.vectorstores import Chroma\n",
    "from langchain.embeddings.openai import OpenAIEmbeddings\n",
    "persist_directory = './vecstores/chroma'"
   ]
  },
  {
   "cell_type": "code",
   "execution_count": 28,
   "id": "bed8c89a",
   "metadata": {},
   "outputs": [],
   "source": [
    "embedding = OpenAIEmbeddings(openai_api_key=openai_api_key)"
   ]
  },
  {
   "cell_type": "code",
   "execution_count": 29,
   "id": "75af3064",
   "metadata": {},
   "outputs": [],
   "source": [
    "vectordb = Chroma(\n",
    "    persist_directory=persist_directory,\n",
    "    embedding_function=embedding\n",
    ")"
   ]
  },
  {
   "cell_type": "code",
   "execution_count": 30,
   "id": "657c3299",
   "metadata": {},
   "outputs": [
    {
     "name": "stdout",
     "output_type": "stream",
     "text": [
      "26\n"
     ]
    }
   ],
   "source": [
    "print(vectordb._collection.count())"
   ]
  },
  {
   "cell_type": "code",
   "execution_count": 42,
   "id": "4834a4d3",
   "metadata": {},
   "outputs": [],
   "source": [
    "toy_text = [\n",
    "    \"I like football matches, they entertain me alot this days.\",\n",
    "    \"I like the fact that football matches have fans and excitements around it, its very entertaining\",\n",
    "    \"Injuries in football can be dangerous events\",\n",
    "    \"Football is good but I hate the violence that comes with it when fans clash\"\n",
    "]"
   ]
  },
  {
   "cell_type": "code",
   "execution_count": 43,
   "id": "2bd6e0e9",
   "metadata": {},
   "outputs": [],
   "source": [
    "toy_db = Chroma.from_texts(texts=toy_text, embedding=embedding)"
   ]
  },
  {
   "cell_type": "code",
   "execution_count": 44,
   "id": "0ab074bb",
   "metadata": {},
   "outputs": [],
   "source": [
    "question = \"Tell me about football matches.\""
   ]
  },
  {
   "cell_type": "code",
   "execution_count": 45,
   "id": "06ab4a7c",
   "metadata": {},
   "outputs": [
    {
     "data": {
      "text/plain": [
       "[Document(page_content='I like football matches, they entertain me alot this days.', metadata={}),\n",
       " Document(page_content='I like the fact that football matches have fans and excitements around it, its very entertaining', metadata={})]"
      ]
     },
     "execution_count": 45,
     "metadata": {},
     "output_type": "execute_result"
    }
   ],
   "source": [
    "toy_db.similarity_search(query=question, k=2)"
   ]
  },
  {
   "cell_type": "markdown",
   "id": "794fc960",
   "metadata": {},
   "source": [
    "This only return to us the good things about football,not the injuries about it. Let's use MMR to try and get a moe diverse answer."
   ]
  },
  {
   "cell_type": "markdown",
   "id": "ab611b96",
   "metadata": {},
   "source": [
    "### MMR"
   ]
  },
  {
   "cell_type": "code",
   "execution_count": 47,
   "id": "ba0dc99d",
   "metadata": {},
   "outputs": [
    {
     "name": "stderr",
     "output_type": "stream",
     "text": [
      "Number of requested results 20 is greater than number of elements in index 4, updating n_results = 4\n"
     ]
    },
    {
     "data": {
      "text/plain": [
       "[Document(page_content='I like football matches, they entertain me alot this days.', metadata={}),\n",
       " Document(page_content='Injuries in football can be dangerous events', metadata={})]"
      ]
     },
     "execution_count": 47,
     "metadata": {},
     "output_type": "execute_result"
    }
   ],
   "source": [
    "toy_db.max_marginal_relevance_search(query=question, k=2)"
   ]
  },
  {
   "cell_type": "markdown",
   "id": "881b4f14",
   "metadata": {},
   "source": [
    "Now we can see we do not only get back the good things about football but, also the bad side of things."
   ]
  },
  {
   "cell_type": "code",
   "execution_count": 53,
   "id": "65ca34ee",
   "metadata": {},
   "outputs": [],
   "source": [
    "question = \"Is ther a point where we go over function parameters\""
   ]
  },
  {
   "cell_type": "code",
   "execution_count": 54,
   "id": "70257d0b",
   "metadata": {},
   "outputs": [],
   "source": [
    "docs = vectordb.similarity_search(question,k=6)"
   ]
  },
  {
   "cell_type": "code",
   "execution_count": 55,
   "id": "7e852ccf",
   "metadata": {},
   "outputs": [],
   "source": [
    "for i, doc in enumerate(docs):\n",
    "    doc.page_content = doc.page_content.replace(\"\\n\", \" \")\n",
    "    docs[i] = doc"
   ]
  },
  {
   "cell_type": "code",
   "execution_count": 56,
   "id": "a29b7a35",
   "metadata": {},
   "outputs": [
    {
     "name": "stdout",
     "output_type": "stream",
     "text": [
      "Doc 0: #TypeScriptRestParameters #TypeScriptFunctionOverloading #TypeScriptArrowFunctions \n",
      " {'source': './datasets/example_doc.pdf', 'page': 0}\n",
      "\n",
      "Doc 1: #TypeScriptFunctionParameters #TypeScriptOptionalParameters #TypeScriptDefaultParameters \n",
      " {'source': './datasets/example_doc.pdf', 'page': 0}\n",
      "\n",
      "Doc 2: variable number of arguments. 5. Function Overloading: Understand function overloading in \n",
      " {'source': './datasets/example_doc.pdf', 'page': 0}\n",
      "\n",
      "Doc 3: which can accept functions as parameters or return functions, enabling powerful abstractions in \n",
      " {'source': './datasets/example_doc.pdf', 'page': 0}\n",
      "\n",
      "Doc 4: range of topics related to functions in TypeScript: 1. Introduction to Functions: Understand the \n",
      " {'source': './datasets/example_doc.pdf', 'page': 0}\n",
      "\n",
      "Doc 5: and Parameters: Learn how to declare functions, define parameters, and specify return types in \n",
      " {'source': './datasets/example_doc.pdf', 'page': 0}\n",
      "\n"
     ]
    }
   ],
   "source": [
    "for i, doc in enumerate(docs):\n",
    "    print(f\"Doc {i}: {doc.page_content} \\n {doc.metadata}\", end=\"\\n\\n\")"
   ]
  },
  {
   "cell_type": "code",
   "execution_count": 57,
   "id": "c0453507",
   "metadata": {},
   "outputs": [],
   "source": [
    "docs_mmr = vectordb.max_marginal_relevance_search(question,k=6)"
   ]
  },
  {
   "cell_type": "code",
   "execution_count": 58,
   "id": "568125ed",
   "metadata": {},
   "outputs": [],
   "source": [
    "for i, doc in enumerate(docs_mmr):\n",
    "    doc.page_content = doc.page_content.replace(\"\\n\", \" \")\n",
    "    docs[i] = doc"
   ]
  },
  {
   "cell_type": "code",
   "execution_count": 59,
   "id": "9a39a523",
   "metadata": {},
   "outputs": [
    {
     "name": "stdout",
     "output_type": "stream",
     "text": [
      "Doc 0: #TypeScriptRestParameters #TypeScriptFunctionOverloading #TypeScriptArrowFunctions \n",
      " {'source': './datasets/example_doc.pdf', 'page': 0}\n",
      "\n",
      "Doc 1: variable number of arguments. 5. Function Overloading: Understand function overloading in \n",
      " {'source': './datasets/example_doc.pdf', 'page': 0}\n",
      "\n",
      "Doc 2: which can accept functions as parameters or return functions, enabling powerful abstractions in \n",
      " {'source': './datasets/example_doc.pdf', 'page': 0}\n",
      "\n",
      "Doc 3: the fundamentals of functions and their significance in programming. 2. Function Declaration and \n",
      " {'source': './datasets/example_doc.pdf', 'page': 0}\n",
      "\n",
      "Doc 4: for the same function name. 6. Arrow Functions: Learn about the concise syntax and benefits of \n",
      " {'source': './datasets/example_doc.pdf', 'page': 0}\n",
      "\n",
      "Doc 5: 4. Rest Parameters: Explore the rest parameter syntax, enabling functions to accept a variable \n",
      " {'source': './datasets/example_doc.pdf', 'page': 0}\n",
      "\n"
     ]
    }
   ],
   "source": [
    "for i, doc in enumerate(docs_mmr):\n",
    "    print(f\"Doc {i}: {doc.page_content} \\n {doc.metadata}\", end=\"\\n\\n\")"
   ]
  },
  {
   "cell_type": "markdown",
   "id": "04bc3b76",
   "metadata": {},
   "source": [
    "Responses are more diverse with MMR"
   ]
  },
  {
   "cell_type": "markdown",
   "id": "0311b8b8",
   "metadata": {},
   "source": [
    "## Self-query Retriever\n",
    "\n",
    "This use metadata to query the documents\n",
    "\n",
    "The SelfQueryRetriever is a component in the Langchain library that automates the process of prompt tuning for vector database retrieval. It uses an LLM (Language Model) to generate multiple queries from different perspectives for a given user input query. By generating multiple perspectives on the same question, the SelfQueryRetriever aims to overcome some of the limitations of distance-based retrieval and provide a richer set of results.\n",
    "\n",
    "To use the SelfQueryRetriever, you need to specify the LLM to use for query generation. The retriever will then generate multiple queries and retrieve a set of relevant documents for each query. It takes the unique union across all queries to get a larger set of potentially relevant documents."
   ]
  },
  {
   "cell_type": "code",
   "execution_count": 78,
   "id": "5e94ded4",
   "metadata": {},
   "outputs": [],
   "source": [
    "from langchain.llms import OpenAI\n",
    "from langchain.retrievers.self_query.base import SelfQueryRetriever\n",
    "from langchain.chains.query_constructor.base import AttributeInfo\n",
    "from langchain.retrievers import SelfQueryRetriever\n",
    "from langchain.chat_models import ChatOpenAI"
   ]
  },
  {
   "cell_type": "code",
   "execution_count": 79,
   "id": "29bb83b4",
   "metadata": {},
   "outputs": [],
   "source": [
    "metadata_field_info = [\n",
    "    AttributeInfo(\n",
    "        name=\"original\",\n",
    "        description=\"The data is from `./datasets/example_doc.pdf'`\",\n",
    "        type=\"string\",\n",
    "    )\n",
    "]"
   ]
  },
  {
   "cell_type": "code",
   "execution_count": 80,
   "id": "2a86d467",
   "metadata": {},
   "outputs": [],
   "source": [
    "document_content_description = \"YouTube Video Description Data\"\n",
    "\n",
    "# creating LLM\n",
    "llm = ChatOpenAI(openai_api_key=openai_api_key)\n",
    "\n"
   ]
  },
  {
   "cell_type": "code",
   "execution_count": 81,
   "id": "7de32b49",
   "metadata": {
    "collapsed": true
   },
   "outputs": [
    {
     "ename": "TypeError",
     "evalue": "'NoneType' object is not callable",
     "output_type": "error",
     "traceback": [
      "\u001b[0;31m---------------------------------------------------------------------------\u001b[0m",
      "\u001b[0;31mTypeError\u001b[0m                                 Traceback (most recent call last)",
      "Cell \u001b[0;32mIn[81], line 2\u001b[0m\n\u001b[1;32m      1\u001b[0m \u001b[38;5;66;03m# Create the retriever\u001b[39;00m\n\u001b[0;32m----> 2\u001b[0m retriever \u001b[38;5;241m=\u001b[39m SelfQueryRetriever\u001b[38;5;241m.\u001b[39mfrom_llm(\n\u001b[1;32m      3\u001b[0m     llm\u001b[38;5;241m=\u001b[39mllm,\n\u001b[1;32m      4\u001b[0m     vectorstore\u001b[38;5;241m=\u001b[39mvectordb,\n\u001b[1;32m      5\u001b[0m     document_contents\u001b[38;5;241m=\u001b[39mdocument_content_description,\n\u001b[1;32m      6\u001b[0m     metadata_field_info\u001b[38;5;241m=\u001b[39mmetadata_field_info,\n\u001b[1;32m      7\u001b[0m     verbose\u001b[38;5;241m=\u001b[39m\u001b[38;5;28;01mTrue\u001b[39;00m\n\u001b[1;32m      8\u001b[0m )\n",
      "File \u001b[0;32m~/anaconda3/envs/llms/lib/python3.11/site-packages/langchain/retrievers/self_query/base.py:149\u001b[0m, in \u001b[0;36mSelfQueryRetriever.from_llm\u001b[0;34m(cls, llm, vectorstore, document_contents, metadata_field_info, structured_query_translator, chain_kwargs, enable_limit, use_original_query, **kwargs)\u001b[0m\n\u001b[1;32m    145\u001b[0m \u001b[38;5;28;01mif\u001b[39;00m \u001b[38;5;124m\"\u001b[39m\u001b[38;5;124mallowed_operators\u001b[39m\u001b[38;5;124m\"\u001b[39m \u001b[38;5;129;01mnot\u001b[39;00m \u001b[38;5;129;01min\u001b[39;00m chain_kwargs:\n\u001b[1;32m    146\u001b[0m     chain_kwargs[\n\u001b[1;32m    147\u001b[0m         \u001b[38;5;124m\"\u001b[39m\u001b[38;5;124mallowed_operators\u001b[39m\u001b[38;5;124m\"\u001b[39m\n\u001b[1;32m    148\u001b[0m     ] \u001b[38;5;241m=\u001b[39m structured_query_translator\u001b[38;5;241m.\u001b[39mallowed_operators\n\u001b[0;32m--> 149\u001b[0m llm_chain \u001b[38;5;241m=\u001b[39m load_query_constructor_chain(\n\u001b[1;32m    150\u001b[0m     llm,\n\u001b[1;32m    151\u001b[0m     document_contents,\n\u001b[1;32m    152\u001b[0m     metadata_field_info,\n\u001b[1;32m    153\u001b[0m     enable_limit\u001b[38;5;241m=\u001b[39menable_limit,\n\u001b[1;32m    154\u001b[0m     \u001b[38;5;241m*\u001b[39m\u001b[38;5;241m*\u001b[39mchain_kwargs,\n\u001b[1;32m    155\u001b[0m )\n\u001b[1;32m    156\u001b[0m \u001b[38;5;28;01mreturn\u001b[39;00m \u001b[38;5;28mcls\u001b[39m(\n\u001b[1;32m    157\u001b[0m     llm_chain\u001b[38;5;241m=\u001b[39mllm_chain,\n\u001b[1;32m    158\u001b[0m     vectorstore\u001b[38;5;241m=\u001b[39mvectorstore,\n\u001b[0;32m   (...)\u001b[0m\n\u001b[1;32m    161\u001b[0m     \u001b[38;5;241m*\u001b[39m\u001b[38;5;241m*\u001b[39mkwargs,\n\u001b[1;32m    162\u001b[0m )\n",
      "File \u001b[0;32m~/anaconda3/envs/llms/lib/python3.11/site-packages/langchain/chains/query_constructor/base.py:142\u001b[0m, in \u001b[0;36mload_query_constructor_chain\u001b[0;34m(llm, document_contents, attribute_info, examples, allowed_comparators, allowed_operators, enable_limit, **kwargs)\u001b[0m\n\u001b[1;32m    116\u001b[0m \u001b[38;5;28;01mdef\u001b[39;00m \u001b[38;5;21mload_query_constructor_chain\u001b[39m(\n\u001b[1;32m    117\u001b[0m     llm: BaseLanguageModel,\n\u001b[1;32m    118\u001b[0m     document_contents: \u001b[38;5;28mstr\u001b[39m,\n\u001b[0;32m   (...)\u001b[0m\n\u001b[1;32m    124\u001b[0m     \u001b[38;5;241m*\u001b[39m\u001b[38;5;241m*\u001b[39mkwargs: Any,\n\u001b[1;32m    125\u001b[0m ) \u001b[38;5;241m-\u001b[39m\u001b[38;5;241m>\u001b[39m LLMChain:\n\u001b[1;32m    126\u001b[0m \u001b[38;5;250m    \u001b[39m\u001b[38;5;124;03m\"\"\"Load a query constructor chain.\u001b[39;00m\n\u001b[1;32m    127\u001b[0m \n\u001b[1;32m    128\u001b[0m \u001b[38;5;124;03m    Args:\u001b[39;00m\n\u001b[0;32m   (...)\u001b[0m\n\u001b[1;32m    140\u001b[0m \u001b[38;5;124;03m        A LLMChain that can be used to construct queries.\u001b[39;00m\n\u001b[1;32m    141\u001b[0m \u001b[38;5;124;03m    \"\"\"\u001b[39;00m\n\u001b[0;32m--> 142\u001b[0m     prompt \u001b[38;5;241m=\u001b[39m _get_prompt(\n\u001b[1;32m    143\u001b[0m         document_contents,\n\u001b[1;32m    144\u001b[0m         attribute_info,\n\u001b[1;32m    145\u001b[0m         examples\u001b[38;5;241m=\u001b[39mexamples,\n\u001b[1;32m    146\u001b[0m         allowed_comparators\u001b[38;5;241m=\u001b[39mallowed_comparators,\n\u001b[1;32m    147\u001b[0m         allowed_operators\u001b[38;5;241m=\u001b[39mallowed_operators,\n\u001b[1;32m    148\u001b[0m         enable_limit\u001b[38;5;241m=\u001b[39menable_limit,\n\u001b[1;32m    149\u001b[0m     )\n\u001b[1;32m    150\u001b[0m     \u001b[38;5;28;01mreturn\u001b[39;00m LLMChain(llm\u001b[38;5;241m=\u001b[39mllm, prompt\u001b[38;5;241m=\u001b[39mprompt, \u001b[38;5;241m*\u001b[39m\u001b[38;5;241m*\u001b[39mkwargs)\n",
      "File \u001b[0;32m~/anaconda3/envs/llms/lib/python3.11/site-packages/langchain/chains/query_constructor/base.py:103\u001b[0m, in \u001b[0;36m_get_prompt\u001b[0;34m(document_contents, attribute_info, examples, allowed_comparators, allowed_operators, enable_limit)\u001b[0m\n\u001b[1;32m     99\u001b[0m prefix \u001b[38;5;241m=\u001b[39m DEFAULT_PREFIX\u001b[38;5;241m.\u001b[39mformat(schema\u001b[38;5;241m=\u001b[39mschema)\n\u001b[1;32m    100\u001b[0m suffix \u001b[38;5;241m=\u001b[39m DEFAULT_SUFFIX\u001b[38;5;241m.\u001b[39mformat(\n\u001b[1;32m    101\u001b[0m     i\u001b[38;5;241m=\u001b[39m\u001b[38;5;28mlen\u001b[39m(examples) \u001b[38;5;241m+\u001b[39m \u001b[38;5;241m1\u001b[39m, content\u001b[38;5;241m=\u001b[39mdocument_contents, attributes\u001b[38;5;241m=\u001b[39mattribute_str\n\u001b[1;32m    102\u001b[0m )\n\u001b[0;32m--> 103\u001b[0m output_parser \u001b[38;5;241m=\u001b[39m StructuredQueryOutputParser\u001b[38;5;241m.\u001b[39mfrom_components(\n\u001b[1;32m    104\u001b[0m     allowed_comparators\u001b[38;5;241m=\u001b[39mallowed_comparators, allowed_operators\u001b[38;5;241m=\u001b[39mallowed_operators\n\u001b[1;32m    105\u001b[0m )\n\u001b[1;32m    106\u001b[0m \u001b[38;5;28;01mreturn\u001b[39;00m FewShotPromptTemplate(\n\u001b[1;32m    107\u001b[0m     examples\u001b[38;5;241m=\u001b[39mexamples,\n\u001b[1;32m    108\u001b[0m     example_prompt\u001b[38;5;241m=\u001b[39mEXAMPLE_PROMPT,\n\u001b[0;32m   (...)\u001b[0m\n\u001b[1;32m    112\u001b[0m     output_parser\u001b[38;5;241m=\u001b[39moutput_parser,\n\u001b[1;32m    113\u001b[0m )\n",
      "File \u001b[0;32m~/anaconda3/envs/llms/lib/python3.11/site-packages/langchain/chains/query_constructor/base.py:60\u001b[0m, in \u001b[0;36mStructuredQueryOutputParser.from_components\u001b[0;34m(cls, allowed_comparators, allowed_operators)\u001b[0m\n\u001b[1;32m     54\u001b[0m \u001b[38;5;129m@classmethod\u001b[39m\n\u001b[1;32m     55\u001b[0m \u001b[38;5;28;01mdef\u001b[39;00m \u001b[38;5;21mfrom_components\u001b[39m(\n\u001b[1;32m     56\u001b[0m     \u001b[38;5;28mcls\u001b[39m,\n\u001b[1;32m     57\u001b[0m     allowed_comparators: Optional[Sequence[Comparator]] \u001b[38;5;241m=\u001b[39m \u001b[38;5;28;01mNone\u001b[39;00m,\n\u001b[1;32m     58\u001b[0m     allowed_operators: Optional[Sequence[Operator]] \u001b[38;5;241m=\u001b[39m \u001b[38;5;28;01mNone\u001b[39;00m,\n\u001b[1;32m     59\u001b[0m ) \u001b[38;5;241m-\u001b[39m\u001b[38;5;241m>\u001b[39m StructuredQueryOutputParser:\n\u001b[0;32m---> 60\u001b[0m     ast_parser \u001b[38;5;241m=\u001b[39m get_parser(\n\u001b[1;32m     61\u001b[0m         allowed_comparators\u001b[38;5;241m=\u001b[39mallowed_comparators, allowed_operators\u001b[38;5;241m=\u001b[39mallowed_operators\n\u001b[1;32m     62\u001b[0m     )\n\u001b[1;32m     63\u001b[0m     \u001b[38;5;28;01mreturn\u001b[39;00m \u001b[38;5;28mcls\u001b[39m(ast_parse\u001b[38;5;241m=\u001b[39mast_parser\u001b[38;5;241m.\u001b[39mparse)\n",
      "File \u001b[0;32m~/anaconda3/envs/llms/lib/python3.11/site-packages/langchain/chains/query_constructor/parser.py:148\u001b[0m, in \u001b[0;36mget_parser\u001b[0;34m(allowed_comparators, allowed_operators)\u001b[0m\n\u001b[1;32m    134\u001b[0m \u001b[38;5;28;01mdef\u001b[39;00m \u001b[38;5;21mget_parser\u001b[39m(\n\u001b[1;32m    135\u001b[0m     allowed_comparators: Optional[Sequence[Comparator]] \u001b[38;5;241m=\u001b[39m \u001b[38;5;28;01mNone\u001b[39;00m,\n\u001b[1;32m    136\u001b[0m     allowed_operators: Optional[Sequence[Operator]] \u001b[38;5;241m=\u001b[39m \u001b[38;5;28;01mNone\u001b[39;00m,\n\u001b[1;32m    137\u001b[0m ) \u001b[38;5;241m-\u001b[39m\u001b[38;5;241m>\u001b[39m Lark:\n\u001b[1;32m    138\u001b[0m \u001b[38;5;250m    \u001b[39m\u001b[38;5;124;03m\"\"\"\u001b[39;00m\n\u001b[1;32m    139\u001b[0m \u001b[38;5;124;03m    Returns a parser for the query language.\u001b[39;00m\n\u001b[1;32m    140\u001b[0m \n\u001b[0;32m   (...)\u001b[0m\n\u001b[1;32m    146\u001b[0m \u001b[38;5;124;03m        Lark parser for the query language.\u001b[39;00m\n\u001b[1;32m    147\u001b[0m \u001b[38;5;124;03m    \"\"\"\u001b[39;00m\n\u001b[0;32m--> 148\u001b[0m     transformer \u001b[38;5;241m=\u001b[39m QueryTransformer(\n\u001b[1;32m    149\u001b[0m         allowed_comparators\u001b[38;5;241m=\u001b[39mallowed_comparators, allowed_operators\u001b[38;5;241m=\u001b[39mallowed_operators\n\u001b[1;32m    150\u001b[0m     )\n\u001b[1;32m    151\u001b[0m     \u001b[38;5;28;01mreturn\u001b[39;00m Lark(GRAMMAR, parser\u001b[38;5;241m=\u001b[39m\u001b[38;5;124m\"\u001b[39m\u001b[38;5;124mlalr\u001b[39m\u001b[38;5;124m\"\u001b[39m, transformer\u001b[38;5;241m=\u001b[39mtransformer, start\u001b[38;5;241m=\u001b[39m\u001b[38;5;124m\"\u001b[39m\u001b[38;5;124mprogram\u001b[39m\u001b[38;5;124m\"\u001b[39m)\n",
      "\u001b[0;31mTypeError\u001b[0m: 'NoneType' object is not callable"
     ]
    }
   ],
   "source": [
    "# Create the retriever\n",
    "retriever = SelfQueryRetriever.from_llm(\n",
    "    llm=llm,\n",
    "    vectorstore=vectordb,\n",
    "    document_contents=document_content_description,\n",
    "    metadata_field_info=metadata_field_info,\n",
    "    verbose=True\n",
    ")"
   ]
  },
  {
   "cell_type": "markdown",
   "id": "34b0aee1",
   "metadata": {},
   "source": [
    "## Contextual Compression Technique"
   ]
  },
  {
   "cell_type": "code",
   "execution_count": 83,
   "id": "5068e690",
   "metadata": {},
   "outputs": [],
   "source": [
    "from langchain.retrievers import ContextualCompressionRetriever\n",
    "from langchain.retrievers.document_compressors import LLMChainExtractor"
   ]
  },
  {
   "cell_type": "code",
   "execution_count": 95,
   "id": "3d4b23b5",
   "metadata": {},
   "outputs": [],
   "source": [
    "llm = OpenAI(temperature=0, openai_api_key=openai_api_key)\n",
    "\n",
    "# Wrap vector store in a compressor\n",
    "compressor = LLMChainExtractor.from_llm(llm)"
   ]
  },
  {
   "cell_type": "code",
   "execution_count": 88,
   "id": "3d4090f9",
   "metadata": {},
   "outputs": [],
   "source": [
    "compression_retriever = ContextualCompressionRetriever(\n",
    "    base_compressor=compressor,\n",
    "    base_retriever=vectordb.as_retriever()\n",
    ")"
   ]
  },
  {
   "cell_type": "code",
   "execution_count": 92,
   "id": "8a1399d5",
   "metadata": {},
   "outputs": [],
   "source": [
    "question = \"Is ther a point where we go over function parameters\""
   ]
  },
  {
   "cell_type": "markdown",
   "id": "b8779f55",
   "metadata": {},
   "source": [
    "Get the compressed documents"
   ]
  },
  {
   "cell_type": "code",
   "execution_count": 93,
   "id": "25b5f859",
   "metadata": {},
   "outputs": [],
   "source": [
    "compressed_docs = compression_retriever.get_relevant_documents(question)"
   ]
  },
  {
   "cell_type": "code",
   "execution_count": 94,
   "id": "3d481615",
   "metadata": {},
   "outputs": [
    {
     "data": {
      "text/plain": [
       "[Document(page_content='#TypeScriptFunctionOverloading', metadata={'source': './datasets/example_doc.pdf', 'page': 0}),\n",
       " Document(page_content='#TypeScriptFunctionParameters #TypeScriptOptionalParameters #TypeScriptDefaultParameters', metadata={'source': './datasets/example_doc.pdf', 'page': 0}),\n",
       " Document(page_content='5. Function Overloading: Understand function overloading in', metadata={'source': './datasets/example_doc.pdf', 'page': 0}),\n",
       " Document(page_content='accept functions as parameters', metadata={'source': './datasets/example_doc.pdf', 'page': 0})]"
      ]
     },
     "execution_count": 94,
     "metadata": {},
     "output_type": "execute_result"
    }
   ],
   "source": [
    "compressed_docs"
   ]
  },
  {
   "cell_type": "code",
   "execution_count": 96,
   "id": "41617adc",
   "metadata": {},
   "outputs": [
    {
     "name": "stdout",
     "output_type": "stream",
     "text": [
      "Doc 0: #TypeScriptFunctionOverloading \n",
      " {'source': './datasets/example_doc.pdf', 'page': 0}\n",
      "\n",
      "Doc 1: #TypeScriptFunctionParameters #TypeScriptOptionalParameters #TypeScriptDefaultParameters \n",
      " {'source': './datasets/example_doc.pdf', 'page': 0}\n",
      "\n",
      "Doc 2: 5. Function Overloading: Understand function overloading in \n",
      " {'source': './datasets/example_doc.pdf', 'page': 0}\n",
      "\n",
      "Doc 3: accept functions as parameters \n",
      " {'source': './datasets/example_doc.pdf', 'page': 0}\n",
      "\n"
     ]
    }
   ],
   "source": [
    "for i, doc in enumerate(compressed_docs):\n",
    "    print(f\"Doc {i}: {doc.page_content} \\n {doc.metadata}\", end=\"\\n\\n\")"
   ]
  },
  {
   "cell_type": "markdown",
   "id": "c44fe52f",
   "metadata": {},
   "source": [
    "Setting search type to MMR"
   ]
  },
  {
   "cell_type": "code",
   "execution_count": 97,
   "id": "f45ce9b9",
   "metadata": {},
   "outputs": [],
   "source": [
    "compression_retriever = ContextualCompressionRetriever(\n",
    "    base_compressor=compressor,\n",
    "    base_retriever=vectordb.as_retriever(search_type=\"mmr\")\n",
    ")"
   ]
  },
  {
   "cell_type": "code",
   "execution_count": 98,
   "id": "29c2cfec",
   "metadata": {},
   "outputs": [
    {
     "name": "stderr",
     "output_type": "stream",
     "text": [
      "/home/prince/anaconda3/envs/llms/lib/python3.11/site-packages/langchain/chains/llm.py:275: UserWarning: The predict_and_parse method is deprecated, instead pass an output parser directly to LLMChain.\n",
      "  warnings.warn(\n"
     ]
    }
   ],
   "source": [
    "compressed_docs = compression_retriever.get_relevant_documents(question)"
   ]
  },
  {
   "cell_type": "code",
   "execution_count": 99,
   "id": "3f1605e7",
   "metadata": {},
   "outputs": [
    {
     "name": "stdout",
     "output_type": "stream",
     "text": [
      "Doc 0: #TypeScriptFunctionOverloading \n",
      " {'source': './datasets/example_doc.pdf', 'page': 0}\n",
      "\n",
      "Doc 1: 5. Function Overloading: Understand function overloading in \n",
      " {'source': './datasets/example_doc.pdf', 'page': 0}\n",
      "\n",
      "Doc 2: accept functions as parameters \n",
      " {'source': './datasets/example_doc.pdf', 'page': 0}\n",
      "\n",
      "Doc 3: \"rest parameter syntax, enabling functions to accept a variable\" \n",
      " {'source': './datasets/example_doc.pdf', 'page': 0}\n",
      "\n"
     ]
    }
   ],
   "source": [
    "for i, doc in enumerate(compressed_docs):\n",
    "    print(f\"Doc {i}: {doc.page_content} \\n {doc.metadata}\", end=\"\\n\\n\")"
   ]
  },
  {
   "cell_type": "markdown",
   "id": "1a32c0d0",
   "metadata": {},
   "source": [
    "### Other Types Of Retrieval Techniques We Can Use\n",
    "\n",
    "Other than the vectorstore and the retrievers we have used with it, there are mote traditional NLP retrievers we can use. This include:\n",
    "\n",
    "#### SVM Retriever\n",
    "\n",
    "The SVM (Support Vector Machine) retriever is a component in natural language processing (NLP) systems that utilizes Support Vector Machines for information retrieval tasks. It is designed to retrieve relevant documents or passages from a large collection of text based on a given query.\n",
    "\n",
    "The SVM retriever is particularly effective in tasks such as question-answering, document retrieval, and passage retrieval. It can handle complex queries and large document collections while providing accurate and relevant results. The SVM algorithm, in combination with appropriate feature engineering and training data, allows the retriever to effectively discriminate between relevant and irrelevant instances.\n",
    "\n",
    "#### TFID Retriever\n",
    "\n",
    "\n",
    "The TFIDF (Term Frequency-Inverse Document Frequency) Retriever is a component used in natural language processing (NLP) systems for information retrieval tasks. It leverages the TF-IDF weighting scheme to retrieve relevant documents or passages from a collection of text based on a given query.\n",
    "\n",
    "The TFIDF Retriever is a simple yet effective method for information retrieval tasks. It assigns higher importance to terms that are both frequent in a document and rare in the overall corpus. By considering both term frequency and document frequency, it aims to identify documents that are likely to be relevant to the query based on the content overlap."
   ]
  },
  {
   "cell_type": "code",
   "execution_count": 100,
   "id": "12810770",
   "metadata": {},
   "outputs": [],
   "source": [
    "from langchain.retrievers import SVMRetriever\n",
    "from langchain.retrievers import TFIDFRetriever\n",
    "from langchain.document_loaders import PyPDFLoader\n",
    "from langchain.text_splitter import RecursiveCharacterTextSplitter"
   ]
  },
  {
   "cell_type": "code",
   "execution_count": 103,
   "id": "6f64bdbd",
   "metadata": {},
   "outputs": [],
   "source": [
    "# Load PDF\n",
    "loader = PyPDFLoader(\"./datasets/example_doc.pdf\")\n",
    "pages = loader.load()\n",
    "all_page_text=[p.page_content for p in pages]\n",
    "joined_page_text=\" \".join(all_page_text)"
   ]
  },
  {
   "cell_type": "code",
   "execution_count": 105,
   "id": "f0db6793",
   "metadata": {},
   "outputs": [],
   "source": [
    "text_splitter = RecursiveCharacterTextSplitter(chunk_size = 1500,chunk_overlap = 150)"
   ]
  },
  {
   "cell_type": "code",
   "execution_count": 106,
   "id": "3b1843eb",
   "metadata": {},
   "outputs": [],
   "source": [
    "splits = text_splitter.split_text(joined_page_text)"
   ]
  },
  {
   "cell_type": "code",
   "execution_count": 107,
   "id": "0243ccc2",
   "metadata": {},
   "outputs": [
    {
     "data": {
      "text/plain": [
       "['Mastering\\nFunctions\\nin\\nTypeScript:\\nA\\nComprehensive\\nGuide\\n|\\nCode\\nwith\\nPrince\\nDescription:\\nWelcome\\nback\\nto\\n\"Code\\nwith\\nPrince\"!\\nIn\\nthis\\nsecond\\nvideo\\nof\\nour\\nTypeScript\\ntutorial\\nseries,\\nwe\\'ll\\ndelve\\ninto\\nthe\\npowerful\\nworld\\nof\\nfunctions\\nin\\nTypeScript.\\nFunctions\\nare\\nthe\\nbackbone\\nof\\nany\\nprogramming\\nlanguage,\\nand\\nTypeScript\\nprovides\\nadditional\\nfeatures\\nand\\nenhancements\\nto\\nmake\\nyour\\ncode\\nmore\\nmaintainable\\nand\\nscalable.\\nIn\\nthis\\ntutorial,\\nwe\\'ll\\nexplore\\na\\nwide\\nrange\\nof\\ntopics\\nrelated\\nto\\nfunctions\\nin\\nTypeScript:\\n1.\\nIntroduction\\nto\\nFunctions:\\nUnderstand\\nthe\\nfundamentals\\nof\\nfunctions\\nand\\ntheir\\nsignificance\\nin\\nprogramming.\\n2.\\nFunction\\nDeclaration\\nand\\nParameters:\\nLearn\\nhow\\nto\\ndeclare\\nfunctions,\\ndefine\\nparameters,\\nand\\nspecify\\nreturn\\ntypes\\nin\\nTypeScript.\\n3.\\nOptional\\nand\\nDefault\\nParameters:\\nDiscover\\nTypeScript\\'s\\nsupport\\nfor\\noptional\\nand\\ndefault\\nparameters,\\nallowing\\nfor\\nmore\\nflexible\\nfunction\\nsignatures.\\n4.\\nRest\\nParameters:\\nExplore\\nthe\\nrest\\nparameter\\nsyntax,\\nenabling\\nfunctions\\nto\\naccept\\na\\nvariable\\nnumber\\nof\\narguments.\\n5.\\nFunction\\nOverloading:\\nUnderstand\\nfunction\\noverloading\\nin\\nTypeScript,\\na\\npowerful\\nfeature\\nthat\\nallows\\nyou\\nto\\ndefine\\nmultiple\\nfunction\\nsignatures\\nfor\\nthe\\nsame\\nfunction\\nname.\\n6.\\nArrow\\nFunctions:\\nLearn\\nabout\\nthe\\nconcise\\nsyntax\\nand\\nbenefits\\nof\\narrow\\nfunctions\\nin\\nTypeScript.\\n7.\\nHigher-Order\\nFunctions:\\nDive\\ninto\\nhigher-order\\nfunctions,\\nwhich\\ncan\\naccept\\nfunctions\\nas\\nparameters\\nor\\nreturn\\nfunctions,\\nenabling\\npowerful\\nabstractions\\nin\\nyour\\ncode.\\n8.\\nFunction\\nTypes:\\nExplore\\nfunction\\ntypes\\nin',\n",
       " 'can\\naccept\\nfunctions\\nas\\nparameters\\nor\\nreturn\\nfunctions,\\nenabling\\npowerful\\nabstractions\\nin\\nyour\\ncode.\\n8.\\nFunction\\nTypes:\\nExplore\\nfunction\\ntypes\\nin\\nTypeScript,\\nincluding\\nhow\\nto\\ndefine\\nand\\nuse\\nthem\\neffectively.\\nWith\\npractical\\nexamples,\\ncode\\ndemonstrations,\\nand\\nclear\\nexplanations,\\nthis\\nvideo\\nwill\\nequip\\nyou\\nwith\\nthe\\nknowledge\\nand\\nskills\\nto\\nutilize\\nfunctions\\neffectively\\nin\\nyour\\nTypeScript\\nprojects.\\nDon\\'t\\nforget\\nto\\nsubscribe\\nto\\n\"Code\\nwith\\nPrince\"\\nand\\nhit\\nthe\\nnotification\\nbell\\nto\\nstay\\nupdated\\non\\nupcoming\\nvideos\\nin\\nthis\\nTypeScript\\ntutorial\\nseries.\\nJoin\\nus\\non\\nthis\\njourney\\nto\\nbecome\\na\\nproficient\\nTypeScript\\ndeveloper!\\nTags:\\n#TypeScriptTutorial\\n#CodeWithPrince\\n#TypeScriptFunctions\\n#TypeScriptFunctionDeclaration\\n#TypeScriptFunctionParameters\\n#TypeScriptOptionalParameters\\n#TypeScriptDefaultParameters\\n#TypeScriptRestParameters\\n#TypeScriptFunctionOverloading\\n#TypeScriptArrowFunctions\\n#TypeScriptHigherOrderFunctions\\n#TypeScriptProgramming\\n#TypeScriptDevelopment\\n#LearnTypeScript']"
      ]
     },
     "execution_count": 107,
     "metadata": {},
     "output_type": "execute_result"
    }
   ],
   "source": [
    "splits"
   ]
  },
  {
   "cell_type": "code",
   "execution_count": 108,
   "id": "9d5a981b",
   "metadata": {},
   "outputs": [],
   "source": [
    "svm_retriever = SVMRetriever.from_texts(splits,embedding)\n",
    "tfidf_retriever = TFIDFRetriever.from_texts(splits)"
   ]
  },
  {
   "cell_type": "code",
   "execution_count": 109,
   "id": "ad855fec",
   "metadata": {},
   "outputs": [
    {
     "data": {
      "text/plain": [
       "Document(page_content='Mastering\\nFunctions\\nin\\nTypeScript:\\nA\\nComprehensive\\nGuide\\n|\\nCode\\nwith\\nPrince\\nDescription:\\nWelcome\\nback\\nto\\n\"Code\\nwith\\nPrince\"!\\nIn\\nthis\\nsecond\\nvideo\\nof\\nour\\nTypeScript\\ntutorial\\nseries,\\nwe\\'ll\\ndelve\\ninto\\nthe\\npowerful\\nworld\\nof\\nfunctions\\nin\\nTypeScript.\\nFunctions\\nare\\nthe\\nbackbone\\nof\\nany\\nprogramming\\nlanguage,\\nand\\nTypeScript\\nprovides\\nadditional\\nfeatures\\nand\\nenhancements\\nto\\nmake\\nyour\\ncode\\nmore\\nmaintainable\\nand\\nscalable.\\nIn\\nthis\\ntutorial,\\nwe\\'ll\\nexplore\\na\\nwide\\nrange\\nof\\ntopics\\nrelated\\nto\\nfunctions\\nin\\nTypeScript:\\n1.\\nIntroduction\\nto\\nFunctions:\\nUnderstand\\nthe\\nfundamentals\\nof\\nfunctions\\nand\\ntheir\\nsignificance\\nin\\nprogramming.\\n2.\\nFunction\\nDeclaration\\nand\\nParameters:\\nLearn\\nhow\\nto\\ndeclare\\nfunctions,\\ndefine\\nparameters,\\nand\\nspecify\\nreturn\\ntypes\\nin\\nTypeScript.\\n3.\\nOptional\\nand\\nDefault\\nParameters:\\nDiscover\\nTypeScript\\'s\\nsupport\\nfor\\noptional\\nand\\ndefault\\nparameters,\\nallowing\\nfor\\nmore\\nflexible\\nfunction\\nsignatures.\\n4.\\nRest\\nParameters:\\nExplore\\nthe\\nrest\\nparameter\\nsyntax,\\nenabling\\nfunctions\\nto\\naccept\\na\\nvariable\\nnumber\\nof\\narguments.\\n5.\\nFunction\\nOverloading:\\nUnderstand\\nfunction\\noverloading\\nin\\nTypeScript,\\na\\npowerful\\nfeature\\nthat\\nallows\\nyou\\nto\\ndefine\\nmultiple\\nfunction\\nsignatures\\nfor\\nthe\\nsame\\nfunction\\nname.\\n6.\\nArrow\\nFunctions:\\nLearn\\nabout\\nthe\\nconcise\\nsyntax\\nand\\nbenefits\\nof\\narrow\\nfunctions\\nin\\nTypeScript.\\n7.\\nHigher-Order\\nFunctions:\\nDive\\ninto\\nhigher-order\\nfunctions,\\nwhich\\ncan\\naccept\\nfunctions\\nas\\nparameters\\nor\\nreturn\\nfunctions,\\nenabling\\npowerful\\nabstractions\\nin\\nyour\\ncode.\\n8.\\nFunction\\nTypes:\\nExplore\\nfunction\\ntypes\\nin', metadata={})"
      ]
     },
     "execution_count": 109,
     "metadata": {},
     "output_type": "execute_result"
    }
   ],
   "source": [
    "question = \"Is ther a point where we go over function parameters\"\n",
    "docs_svm=svm_retriever.get_relevant_documents(question)\n",
    "docs_svm[0]"
   ]
  },
  {
   "cell_type": "code",
   "execution_count": 113,
   "id": "25921220",
   "metadata": {},
   "outputs": [],
   "source": [
    "for i, doc in enumerate(docs_svm):\n",
    "    doc.page_content = doc.page_content.replace(\"\\n\", \" \")\n",
    "    docs[i] = doc"
   ]
  },
  {
   "cell_type": "code",
   "execution_count": 114,
   "id": "671826ca",
   "metadata": {},
   "outputs": [
    {
     "name": "stdout",
     "output_type": "stream",
     "text": [
      "Doc 0: Mastering Functions in TypeScript: A Comprehensive Guide | Code with Prince Description: Welcome back to \"Code with Prince\"! In this second video of our TypeScript tutorial series, we'll delve into the powerful world of functions in TypeScript. Functions are the backbone of any programming language, and TypeScript provides additional features and enhancements to make your code more maintainable and scalable. In this tutorial, we'll explore a wide range of topics related to functions in TypeScript: 1. Introduction to Functions: Understand the fundamentals of functions and their significance in programming. 2. Function Declaration and Parameters: Learn how to declare functions, define parameters, and specify return types in TypeScript. 3. Optional and Default Parameters: Discover TypeScript's support for optional and default parameters, allowing for more flexible function signatures. 4. Rest Parameters: Explore the rest parameter syntax, enabling functions to accept a variable number of arguments. 5. Function Overloading: Understand function overloading in TypeScript, a powerful feature that allows you to define multiple function signatures for the same function name. 6. Arrow Functions: Learn about the concise syntax and benefits of arrow functions in TypeScript. 7. Higher-Order Functions: Dive into higher-order functions, which can accept functions as parameters or return functions, enabling powerful abstractions in your code. 8. Function Types: Explore function types in \n",
      " {}\n",
      "\n",
      "Doc 1: can accept functions as parameters or return functions, enabling powerful abstractions in your code. 8. Function Types: Explore function types in TypeScript, including how to define and use them effectively. With practical examples, code demonstrations, and clear explanations, this video will equip you with the knowledge and skills to utilize functions effectively in your TypeScript projects. Don't forget to subscribe to \"Code with Prince\" and hit the notification bell to stay updated on upcoming videos in this TypeScript tutorial series. Join us on this journey to become a proficient TypeScript developer! Tags: #TypeScriptTutorial #CodeWithPrince #TypeScriptFunctions #TypeScriptFunctionDeclaration #TypeScriptFunctionParameters #TypeScriptOptionalParameters #TypeScriptDefaultParameters #TypeScriptRestParameters #TypeScriptFunctionOverloading #TypeScriptArrowFunctions #TypeScriptHigherOrderFunctions #TypeScriptProgramming #TypeScriptDevelopment #LearnTypeScript \n",
      " {}\n",
      "\n"
     ]
    }
   ],
   "source": [
    "for i, doc in enumerate(docs_svm):\n",
    "    print(f\"Doc {i}: {doc.page_content} \\n {doc.metadata}\", end=\"\\n\\n\")"
   ]
  },
  {
   "cell_type": "code",
   "execution_count": 115,
   "id": "d043e41c",
   "metadata": {},
   "outputs": [
    {
     "data": {
      "text/plain": [
       "Document(page_content='Mastering\\nFunctions\\nin\\nTypeScript:\\nA\\nComprehensive\\nGuide\\n|\\nCode\\nwith\\nPrince\\nDescription:\\nWelcome\\nback\\nto\\n\"Code\\nwith\\nPrince\"!\\nIn\\nthis\\nsecond\\nvideo\\nof\\nour\\nTypeScript\\ntutorial\\nseries,\\nwe\\'ll\\ndelve\\ninto\\nthe\\npowerful\\nworld\\nof\\nfunctions\\nin\\nTypeScript.\\nFunctions\\nare\\nthe\\nbackbone\\nof\\nany\\nprogramming\\nlanguage,\\nand\\nTypeScript\\nprovides\\nadditional\\nfeatures\\nand\\nenhancements\\nto\\nmake\\nyour\\ncode\\nmore\\nmaintainable\\nand\\nscalable.\\nIn\\nthis\\ntutorial,\\nwe\\'ll\\nexplore\\na\\nwide\\nrange\\nof\\ntopics\\nrelated\\nto\\nfunctions\\nin\\nTypeScript:\\n1.\\nIntroduction\\nto\\nFunctions:\\nUnderstand\\nthe\\nfundamentals\\nof\\nfunctions\\nand\\ntheir\\nsignificance\\nin\\nprogramming.\\n2.\\nFunction\\nDeclaration\\nand\\nParameters:\\nLearn\\nhow\\nto\\ndeclare\\nfunctions,\\ndefine\\nparameters,\\nand\\nspecify\\nreturn\\ntypes\\nin\\nTypeScript.\\n3.\\nOptional\\nand\\nDefault\\nParameters:\\nDiscover\\nTypeScript\\'s\\nsupport\\nfor\\noptional\\nand\\ndefault\\nparameters,\\nallowing\\nfor\\nmore\\nflexible\\nfunction\\nsignatures.\\n4.\\nRest\\nParameters:\\nExplore\\nthe\\nrest\\nparameter\\nsyntax,\\nenabling\\nfunctions\\nto\\naccept\\na\\nvariable\\nnumber\\nof\\narguments.\\n5.\\nFunction\\nOverloading:\\nUnderstand\\nfunction\\noverloading\\nin\\nTypeScript,\\na\\npowerful\\nfeature\\nthat\\nallows\\nyou\\nto\\ndefine\\nmultiple\\nfunction\\nsignatures\\nfor\\nthe\\nsame\\nfunction\\nname.\\n6.\\nArrow\\nFunctions:\\nLearn\\nabout\\nthe\\nconcise\\nsyntax\\nand\\nbenefits\\nof\\narrow\\nfunctions\\nin\\nTypeScript.\\n7.\\nHigher-Order\\nFunctions:\\nDive\\ninto\\nhigher-order\\nfunctions,\\nwhich\\ncan\\naccept\\nfunctions\\nas\\nparameters\\nor\\nreturn\\nfunctions,\\nenabling\\npowerful\\nabstractions\\nin\\nyour\\ncode.\\n8.\\nFunction\\nTypes:\\nExplore\\nfunction\\ntypes\\nin', metadata={})"
      ]
     },
     "execution_count": 115,
     "metadata": {},
     "output_type": "execute_result"
    }
   ],
   "source": [
    "docs_tfidf=tfidf_retriever.get_relevant_documents(question)\n",
    "docs_tfidf[0]"
   ]
  },
  {
   "cell_type": "code",
   "execution_count": 118,
   "id": "890c17cf",
   "metadata": {},
   "outputs": [],
   "source": [
    "for i, doc in enumerate(docs_tfidf):\n",
    "    doc.page_content = doc.page_content.replace(\"\\n\", \" \")\n",
    "    docs[i] = doc"
   ]
  },
  {
   "cell_type": "code",
   "execution_count": 119,
   "id": "ac8e13b1",
   "metadata": {},
   "outputs": [
    {
     "name": "stdout",
     "output_type": "stream",
     "text": [
      "Doc 0: Mastering Functions in TypeScript: A Comprehensive Guide | Code with Prince Description: Welcome back to \"Code with Prince\"! In this second video of our TypeScript tutorial series, we'll delve into the powerful world of functions in TypeScript. Functions are the backbone of any programming language, and TypeScript provides additional features and enhancements to make your code more maintainable and scalable. In this tutorial, we'll explore a wide range of topics related to functions in TypeScript: 1. Introduction to Functions: Understand the fundamentals of functions and their significance in programming. 2. Function Declaration and Parameters: Learn how to declare functions, define parameters, and specify return types in TypeScript. 3. Optional and Default Parameters: Discover TypeScript's support for optional and default parameters, allowing for more flexible function signatures. 4. Rest Parameters: Explore the rest parameter syntax, enabling functions to accept a variable number of arguments. 5. Function Overloading: Understand function overloading in TypeScript, a powerful feature that allows you to define multiple function signatures for the same function name. 6. Arrow Functions: Learn about the concise syntax and benefits of arrow functions in TypeScript. 7. Higher-Order Functions: Dive into higher-order functions, which can accept functions as parameters or return functions, enabling powerful abstractions in your code. 8. Function Types: Explore function types in \n",
      " {}\n",
      "\n",
      "Doc 1: can accept functions as parameters or return functions, enabling powerful abstractions in your code. 8. Function Types: Explore function types in TypeScript, including how to define and use them effectively. With practical examples, code demonstrations, and clear explanations, this video will equip you with the knowledge and skills to utilize functions effectively in your TypeScript projects. Don't forget to subscribe to \"Code with Prince\" and hit the notification bell to stay updated on upcoming videos in this TypeScript tutorial series. Join us on this journey to become a proficient TypeScript developer! Tags: #TypeScriptTutorial #CodeWithPrince #TypeScriptFunctions #TypeScriptFunctionDeclaration #TypeScriptFunctionParameters #TypeScriptOptionalParameters #TypeScriptDefaultParameters #TypeScriptRestParameters #TypeScriptFunctionOverloading #TypeScriptArrowFunctions #TypeScriptHigherOrderFunctions #TypeScriptProgramming #TypeScriptDevelopment #LearnTypeScript \n",
      " {}\n",
      "\n"
     ]
    }
   ],
   "source": [
    "for i, doc in enumerate(docs_tfidf):\n",
    "    print(f\"Doc {i}: {doc.page_content} \\n {doc.metadata}\", end=\"\\n\\n\")"
   ]
  },
  {
   "cell_type": "markdown",
   "id": "73dbccdf",
   "metadata": {},
   "source": [
    "More or less same results."
   ]
  },
  {
   "cell_type": "code",
   "execution_count": null,
   "id": "c008f945",
   "metadata": {},
   "outputs": [],
   "source": []
  }
 ],
 "metadata": {
  "kernelspec": {
   "display_name": "Python 3 (ipykernel)",
   "language": "python",
   "name": "python3"
  },
  "language_info": {
   "codemirror_mode": {
    "name": "ipython",
    "version": 3
   },
   "file_extension": ".py",
   "mimetype": "text/x-python",
   "name": "python",
   "nbconvert_exporter": "python",
   "pygments_lexer": "ipython3",
   "version": "3.11.4"
  }
 },
 "nbformat": 4,
 "nbformat_minor": 5
}
