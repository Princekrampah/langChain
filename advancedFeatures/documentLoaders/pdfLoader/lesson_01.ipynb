{
 "cells": [
  {
   "cell_type": "markdown",
   "metadata": {},
   "source": [
    "### Document Loaders With PDF Loader"
   ]
  },
  {
   "cell_type": "code",
   "execution_count": 3,
   "metadata": {},
   "outputs": [
    {
     "name": "stdout",
     "output_type": "stream",
     "text": [
      "Collecting pypdf\n",
      "  Using cached pypdf-3.12.0-py3-none-any.whl (254 kB)\n",
      "Installing collected packages: pypdf\n",
      "Successfully installed pypdf-3.12.0\n"
     ]
    }
   ],
   "source": [
    "!pip install pypdf"
   ]
  },
  {
   "cell_type": "code",
   "execution_count": 4,
   "metadata": {},
   "outputs": [],
   "source": [
    "from langchain.document_loaders import PyPDFLoader\n"
   ]
  },
  {
   "cell_type": "code",
   "execution_count": 5,
   "metadata": {},
   "outputs": [],
   "source": [
    "loader = PyPDFLoader(\"../datasets/Mastering Functions in TypeScript_ A Comprehensive Guide _ Code with Prince.pdf\")\n",
    "pages = loader.load()"
   ]
  },
  {
   "cell_type": "code",
   "execution_count": 6,
   "metadata": {},
   "outputs": [
    {
     "data": {
      "text/plain": [
       "[Document(page_content='Mastering\\nFunctions\\nin\\nTypeScript:\\nA\\nComprehensive\\nGuide\\n|\\nCode\\nwith\\nPrince\\nDescription:\\nWelcome\\nback\\nto\\n\"Code\\nwith\\nPrince\"!\\nIn\\nthis\\nsecond\\nvideo\\nof\\nour\\nTypeScript\\ntutorial\\nseries,\\nwe\\'ll\\ndelve\\ninto\\nthe\\npowerful\\nworld\\nof\\nfunctions\\nin\\nTypeScript.\\nFunctions\\nare\\nthe\\nbackbone\\nof\\nany\\nprogramming\\nlanguage,\\nand\\nTypeScript\\nprovides\\nadditional\\nfeatures\\nand\\nenhancements\\nto\\nmake\\nyour\\ncode\\nmore\\nmaintainable\\nand\\nscalable.\\nIn\\nthis\\ntutorial,\\nwe\\'ll\\nexplore\\na\\nwide\\nrange\\nof\\ntopics\\nrelated\\nto\\nfunctions\\nin\\nTypeScript:\\n1.\\nIntroduction\\nto\\nFunctions:\\nUnderstand\\nthe\\nfundamentals\\nof\\nfunctions\\nand\\ntheir\\nsignificance\\nin\\nprogramming.\\n2.\\nFunction\\nDeclaration\\nand\\nParameters:\\nLearn\\nhow\\nto\\ndeclare\\nfunctions,\\ndefine\\nparameters,\\nand\\nspecify\\nreturn\\ntypes\\nin\\nTypeScript.\\n3.\\nOptional\\nand\\nDefault\\nParameters:\\nDiscover\\nTypeScript\\'s\\nsupport\\nfor\\noptional\\nand\\ndefault\\nparameters,\\nallowing\\nfor\\nmore\\nflexible\\nfunction\\nsignatures.\\n4.\\nRest\\nParameters:\\nExplore\\nthe\\nrest\\nparameter\\nsyntax,\\nenabling\\nfunctions\\nto\\naccept\\na\\nvariable\\nnumber\\nof\\narguments.\\n5.\\nFunction\\nOverloading:\\nUnderstand\\nfunction\\noverloading\\nin\\nTypeScript,\\na\\npowerful\\nfeature\\nthat\\nallows\\nyou\\nto\\ndefine\\nmultiple\\nfunction\\nsignatures\\nfor\\nthe\\nsame\\nfunction\\nname.\\n6.\\nArrow\\nFunctions:\\nLearn\\nabout\\nthe\\nconcise\\nsyntax\\nand\\nbenefits\\nof\\narrow\\nfunctions\\nin\\nTypeScript.\\n7.\\nHigher-Order\\nFunctions:\\nDive\\ninto\\nhigher-order\\nfunctions,\\nwhich\\ncan\\naccept\\nfunctions\\nas\\nparameters\\nor\\nreturn\\nfunctions,\\nenabling\\npowerful\\nabstractions\\nin\\nyour\\ncode.\\n8.\\nFunction\\nTypes:\\nExplore\\nfunction\\ntypes\\nin\\nTypeScript,\\nincluding\\nhow\\nto\\ndefine\\nand\\nuse\\nthem\\neffectively.\\nWith\\npractical\\nexamples,\\ncode\\ndemonstrations,\\nand\\nclear\\nexplanations,\\nthis\\nvideo\\nwill\\nequip\\nyou\\nwith\\nthe\\nknowledge\\nand\\nskills\\nto\\nutilize\\nfunctions\\neffectively\\nin\\nyour\\nTypeScript\\nprojects.\\nDon\\'t\\nforget\\nto\\nsubscribe\\nto\\n\"Code\\nwith\\nPrince\"\\nand\\nhit\\nthe\\nnotification\\nbell\\nto\\nstay\\nupdated\\non\\nupcoming\\nvideos\\nin\\nthis\\nTypeScript\\ntutorial\\nseries.\\nJoin\\nus\\non\\nthis\\njourney\\nto\\nbecome\\na\\nproficient\\nTypeScript\\ndeveloper!\\nTags:\\n#TypeScriptTutorial\\n#CodeWithPrince\\n#TypeScriptFunctions\\n#TypeScriptFunctionDeclaration\\n#TypeScriptFunctionParameters\\n#TypeScriptOptionalParameters\\n#TypeScriptDefaultParameters\\n#TypeScriptRestParameters\\n#TypeScriptFunctionOverloading\\n#TypeScriptArrowFunctions\\n#TypeScriptHigherOrderFunctions\\n#TypeScriptProgramming\\n#TypeScriptDevelopment\\n#LearnTypeScript', metadata={'source': '../datasets/Mastering Functions in TypeScript_ A Comprehensive Guide _ Code with Prince.pdf', 'page': 0})]"
      ]
     },
     "execution_count": 6,
     "metadata": {},
     "output_type": "execute_result"
    }
   ],
   "source": [
    "pages"
   ]
  },
  {
   "cell_type": "code",
   "execution_count": 10,
   "metadata": {},
   "outputs": [
    {
     "name": "stdout",
     "output_type": "stream",
     "text": [
      "page_content='Mastering\\nFunctions\\nin\\nTypeScript:\\nA\\nComprehensive\\nGuide\\n|\\nCode\\nwith\\nPrince\\nDescription:\\nWelcome\\nback\\nto\\n\"Code\\nwith\\nPrince\"!\\nIn\\nthis\\nsecond\\nvideo\\nof\\nour\\nTypeScript\\ntutorial\\nseries,\\nwe\\'ll\\ndelve\\ninto\\nthe\\npowerful\\nworld\\nof\\nfunctions\\nin\\nTypeScript.\\nFunctions\\nare\\nthe\\nbackbone\\nof\\nany\\nprogramming\\nlanguage,\\nand\\nTypeScript\\nprovides\\nadditional\\nfeatures\\nand\\nenhancements\\nto\\nmake\\nyour\\ncode\\nmore\\nmaintainable\\nand\\nscalable.\\nIn\\nthis\\ntutorial,\\nwe\\'ll\\nexplore\\na\\nwide\\nrange\\nof\\ntopics\\nrelated\\nto\\nfunctions\\nin\\nTypeScript:\\n1.\\nIntroduction\\nto\\nFunctions:\\nUnderstand\\nthe\\nfundamentals\\nof\\nfunctions\\nand\\ntheir\\nsignificance\\nin\\nprogramming.\\n2.\\nFunction\\nDeclaration\\nand\\nParameters:\\nLearn\\nhow\\nto\\ndeclare\\nfunctions,\\ndefine\\nparameters,\\nand\\nspecify\\nreturn\\ntypes\\nin\\nTypeScript.\\n3.\\nOptional\\nand\\nDefault\\nParameters:\\nDiscover\\nTypeScript\\'s\\nsupport\\nfor\\noptional\\nand\\ndefault\\nparameters,\\nallowing\\nfor\\nmore\\nflexible\\nfunction\\nsignatures.\\n4.\\nRest\\nParameters:\\nExplore\\nthe\\nrest\\nparameter\\nsyntax,\\nenabling\\nfunctions\\nto\\naccept\\na\\nvariable\\nnumber\\nof\\narguments.\\n5.\\nFunction\\nOverloading:\\nUnderstand\\nfunction\\noverloading\\nin\\nTypeScript,\\na\\npowerful\\nfeature\\nthat\\nallows\\nyou\\nto\\ndefine\\nmultiple\\nfunction\\nsignatures\\nfor\\nthe\\nsame\\nfunction\\nname.\\n6.\\nArrow\\nFunctions:\\nLearn\\nabout\\nthe\\nconcise\\nsyntax\\nand\\nbenefits\\nof\\narrow\\nfunctions\\nin\\nTypeScript.\\n7.\\nHigher-Order\\nFunctions:\\nDive\\ninto\\nhigher-order\\nfunctions,\\nwhich\\ncan\\naccept\\nfunctions\\nas\\nparameters\\nor\\nreturn\\nfunctions,\\nenabling\\npowerful\\nabstractions\\nin\\nyour\\ncode.\\n8.\\nFunction\\nTypes:\\nExplore\\nfunction\\ntypes\\nin\\nTypeScript,\\nincluding\\nhow\\nto\\ndefine\\nand\\nuse\\nthem\\neffectively.\\nWith\\npractical\\nexamples,\\ncode\\ndemonstrations,\\nand\\nclear\\nexplanations,\\nthis\\nvideo\\nwill\\nequip\\nyou\\nwith\\nthe\\nknowledge\\nand\\nskills\\nto\\nutilize\\nfunctions\\neffectively\\nin\\nyour\\nTypeScript\\nprojects.\\nDon\\'t\\nforget\\nto\\nsubscribe\\nto\\n\"Code\\nwith\\nPrince\"\\nand\\nhit\\nthe\\nnotification\\nbell\\nto\\nstay\\nupdated\\non\\nupcoming\\nvideos\\nin\\nthis\\nTypeScript\\ntutorial\\nseries.\\nJoin\\nus\\non\\nthis\\njourney\\nto\\nbecome\\na\\nproficient\\nTypeScript\\ndeveloper!\\nTags:\\n#TypeScriptTutorial\\n#CodeWithPrince\\n#TypeScriptFunctions\\n#TypeScriptFunctionDeclaration\\n#TypeScriptFunctionParameters\\n#TypeScriptOptionalParameters\\n#TypeScriptDefaultParameters\\n#TypeScriptRestParameters\\n#TypeScriptFunctionOverloading\\n#TypeScriptArrowFunctions\\n#TypeScriptHigherOrderFunctions\\n#TypeScriptProgramming\\n#TypeScriptDevelopment\\n#LearnTypeScript' metadata={'source': '../datasets/Mastering Functions in TypeScript_ A Comprehensive Guide _ Code with Prince.pdf', 'page': 0}\n"
     ]
    }
   ],
   "source": [
    "page = pages[0]\n",
    "print(page)"
   ]
  },
  {
   "cell_type": "code",
   "execution_count": 9,
   "metadata": {},
   "outputs": [
    {
     "name": "stdout",
     "output_type": "stream",
     "text": [
      "Mastering\n",
      "Functions\n",
      "in\n",
      "TypeScript:\n",
      "A\n",
      "Comprehensive\n",
      "Guide\n",
      "|\n",
      "Code\n",
      "with\n",
      "Prince\n",
      "Description:\n",
      "Welcome\n",
      "back\n",
      "to\n",
      "\"Code\n",
      "with\n",
      "Prince\"!\n",
      "In\n",
      "this\n",
      "second\n",
      "video\n",
      "of\n",
      "our\n",
      "TypeScript\n",
      "tutorial\n",
      "series,\n",
      "we'll\n",
      "delve\n",
      "into\n",
      "the\n",
      "powerful\n",
      "world\n",
      "of\n",
      "functions\n",
      "in\n",
      "TypeScript.\n",
      "Functions\n",
      "are\n",
      "the\n",
      "backbone\n",
      "of\n",
      "any\n",
      "programming\n",
      "language,\n",
      "and\n",
      "TypeScript\n",
      "provides\n",
      "additional\n",
      "features\n",
      "and\n",
      "enhancements\n",
      "to\n",
      "make\n",
      "your\n",
      "code\n",
      "more\n",
      "maintainable\n",
      "an\n"
     ]
    }
   ],
   "source": [
    "print(page.page_content[0:400])"
   ]
  },
  {
   "cell_type": "code",
   "execution_count": 11,
   "metadata": {},
   "outputs": [
    {
     "data": {
      "text/plain": [
       "{'source': '../datasets/Mastering Functions in TypeScript_ A Comprehensive Guide _ Code with Prince.pdf',\n",
       " 'page': 0}"
      ]
     },
     "execution_count": 11,
     "metadata": {},
     "output_type": "execute_result"
    }
   ],
   "source": [
    "page.metadata"
   ]
  },
  {
   "cell_type": "code",
   "execution_count": null,
   "metadata": {},
   "outputs": [],
   "source": []
  }
 ],
 "metadata": {
  "kernelspec": {
   "display_name": "Python 3 (ipykernel)",
   "language": "python",
   "name": "python3"
  },
  "language_info": {
   "codemirror_mode": {
    "name": "ipython",
    "version": 3
   },
   "file_extension": ".py",
   "mimetype": "text/x-python",
   "name": "python",
   "nbconvert_exporter": "python",
   "pygments_lexer": "ipython3",
   "version": "3.11.4"
  }
 },
 "nbformat": 4,
 "nbformat_minor": 2
}
