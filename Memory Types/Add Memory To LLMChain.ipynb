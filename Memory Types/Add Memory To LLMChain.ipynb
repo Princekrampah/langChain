{
 "cells": [
  {
   "cell_type": "markdown",
   "id": "b64c80af",
   "metadata": {},
   "source": [
    "# Adding Memory To LLMChain"
   ]
  },
  {
   "cell_type": "markdown",
   "id": "67e29dd9",
   "metadata": {},
   "source": [
    "### Adding Memory to LLMChain"
   ]
  },
  {
   "cell_type": "code",
   "execution_count": 2,
   "id": "51a2ab20",
   "metadata": {},
   "outputs": [],
   "source": [
    "from dotenv import load_dotenv\n",
    "import os\n",
    "\n",
    "%load_ext dotenv\n",
    "%dotenv"
   ]
  },
  {
   "cell_type": "code",
   "execution_count": 3,
   "id": "745427b7",
   "metadata": {},
   "outputs": [],
   "source": [
    "openai_api_key  = os.environ['OPANAI_API_KEY']"
   ]
  },
  {
   "cell_type": "code",
   "execution_count": 5,
   "id": "fc5dacad",
   "metadata": {},
   "outputs": [],
   "source": [
    "from langchain import OpenAI\n",
    "from langchain.memory import ConversationBufferWindowMemory\n",
    "from langchain.chains import LLMChain\n",
    "from langchain.prompts import PromptTemplate"
   ]
  },
  {
   "cell_type": "code",
   "execution_count": 11,
   "id": "c2ad540a",
   "metadata": {},
   "outputs": [],
   "source": [
    "llm = OpenAI(openai_api_key=openai_api_key, temperature=0.5)\n",
    "\n",
    "_DEFAULT_TEMPLATE = \"\"\"You are a helpful AI chatbot\n",
    "\n",
    "previous chat: {chat_history}\n",
    "\n",
    "Human question: {question}\n",
    "AI:\"\"\"\n",
    "\n",
    "prompt = PromptTemplate(input_variables=[\"chat_history\", \"question\"], template=_DEFAULT_TEMPLATE)\n",
    "# make sure memory_key aligns with the one being used in the prompt\n",
    "memory = ConversationBufferWindowMemory(k=5, memory_key=\"chat_history\")\n",
    "\n",
    "llm_chain = LLMChain(\n",
    "    llm=llm,\n",
    "    memory=memory,\n",
    "    verbose=True,\n",
    "    prompt=prompt\n",
    ")"
   ]
  },
  {
   "cell_type": "code",
   "execution_count": 15,
   "id": "b7848036",
   "metadata": {},
   "outputs": [
    {
     "name": "stdout",
     "output_type": "stream",
     "text": [
      "\n",
      "\n",
      "\u001b[1m> Entering new LLMChain chain...\u001b[0m\n",
      "Prompt after formatting:\n",
      "\u001b[32;1m\u001b[1;3mYou are a helpful AI chatbot\n",
      "\n",
      "previous chat: Human: Hello there\n",
      "AI:  Hi there! How can I help you?\n",
      "\n",
      "Human question: Hello there\n",
      "AI:\u001b[0m\n",
      "\n",
      "\u001b[1m> Finished chain.\u001b[0m\n"
     ]
    },
    {
     "data": {
      "text/plain": [
       "' Hi there! What can I do for you today?'"
      ]
     },
     "execution_count": 15,
     "metadata": {},
     "output_type": "execute_result"
    }
   ],
   "source": [
    "# we pass in `question = \"\"` since question is the variable name we used in the prompt template\n",
    "llm_chain.predict(question=\"Hello there\")"
   ]
  },
  {
   "cell_type": "markdown",
   "id": "5dcd040f",
   "metadata": {},
   "source": [
    "### Adding Memory To Chat Model-based LLMChain"
   ]
  },
  {
   "cell_type": "code",
   "execution_count": 22,
   "id": "c9594e38",
   "metadata": {},
   "outputs": [],
   "source": [
    "from langchain.memory import ConversationBufferWindowMemory\n",
    "from langchain.chat_models import ChatOpenAI\n",
    "from langchain import OpenAI\n",
    "from langchain.prompts import ChatPromptTemplate, HumanMessagePromptTemplate, MessagesPlaceholder\n",
    "from langchain.schema import SystemMessage"
   ]
  },
  {
   "cell_type": "code",
   "execution_count": 26,
   "id": "2e3f24d2",
   "metadata": {},
   "outputs": [],
   "source": [
    "llm = ChatOpenAI(openai_api_key=openai_api_key, temperature=0.5)\n",
    "\n",
    "# return_message=Truse since we are using a chat model\n",
    "memory = ConversationBufferWindowMemory(k=5, return_messages=True, memory_key=\"chat_history\")\n",
    "\n",
    "prompt = ChatPromptTemplate.from_messages([\n",
    "    SystemMessage(content=\"You are a helpful AI chatbot\"),# The persistent system prompt\n",
    "    MessagesPlaceholder(variable_name=\"chat_history\"),# Where the memory will be stored.\n",
    "    HumanMessagePromptTemplate.from_template(\"{question}\") # Where the human input will injectd\n",
    "])\n",
    "\n",
    "chat_model = LLMChain(\n",
    "    llm=llm,\n",
    "    memory = memory,\n",
    "    verbose=True,\n",
    "    prompt=prompt\n",
    ")"
   ]
  },
  {
   "cell_type": "code",
   "execution_count": 27,
   "id": "8512c88e",
   "metadata": {},
   "outputs": [
    {
     "name": "stdout",
     "output_type": "stream",
     "text": [
      "\n",
      "\n",
      "\u001b[1m> Entering new LLMChain chain...\u001b[0m\n",
      "Prompt after formatting:\n",
      "\u001b[32;1m\u001b[1;3mSystem: You are a helpful AI chatbot\n",
      "Human: Hello there\u001b[0m\n",
      "\n",
      "\u001b[1m> Finished chain.\u001b[0m\n"
     ]
    },
    {
     "data": {
      "text/plain": [
       "'Hello! How can I assist you today?'"
      ]
     },
     "execution_count": 27,
     "metadata": {},
     "output_type": "execute_result"
    }
   ],
   "source": [
    "# we pass in `question = \"\"` since question is the variable name we used in the prompt template\n",
    "chat_model.predict(question=\"Hello there\")"
   ]
  },
  {
   "cell_type": "code",
   "execution_count": null,
   "id": "0a7a0c4e",
   "metadata": {},
   "outputs": [],
   "source": []
  }
 ],
 "metadata": {
  "kernelspec": {
   "display_name": "Python 3 (ipykernel)",
   "language": "python",
   "name": "python3"
  },
  "language_info": {
   "codemirror_mode": {
    "name": "ipython",
    "version": 3
   },
   "file_extension": ".py",
   "mimetype": "text/x-python",
   "name": "python",
   "nbconvert_exporter": "python",
   "pygments_lexer": "ipython3",
   "version": "3.11.4"
  }
 },
 "nbformat": 4,
 "nbformat_minor": 5
}
