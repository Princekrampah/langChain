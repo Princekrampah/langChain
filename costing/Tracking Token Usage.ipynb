{
 "cells": [
  {
   "cell_type": "markdown",
   "id": "61aff017",
   "metadata": {},
   "source": [
    "# Track Token Usage\n",
    "\n",
    "In this notebook I go over how to track token usage in LangChain. At the time of creating this document, token tracking is only implemented for OpenAI.\n",
    "\n",
    "Let's first look at an extremely simple example of tracking token usage for a single LLM call. Before we begin, let's load in our environment variables."
   ]
  },
  {
   "cell_type": "code",
   "execution_count": 4,
   "id": "c7e43492",
   "metadata": {},
   "outputs": [],
   "source": [
    "from dotenv import load_dotenv\n",
    "import os\n",
    "\n",
    "%load_ext dotenv\n",
    "%dotenv"
   ]
  },
  {
   "cell_type": "code",
   "execution_count": 5,
   "id": "47e748ff",
   "metadata": {},
   "outputs": [],
   "source": [
    "openai_api_key  = os.environ['OPANAI_API_KEY']"
   ]
  },
  {
   "cell_type": "code",
   "execution_count": 6,
   "id": "4100db41",
   "metadata": {},
   "outputs": [],
   "source": [
    "from langchain.llms import OpenAI\n",
    "from langchain.callbacks import get_openai_callback"
   ]
  },
  {
   "cell_type": "code",
   "execution_count": 8,
   "id": "32eb1681",
   "metadata": {},
   "outputs": [],
   "source": [
    "llm = OpenAI(model_name=\"text-davinci-002\", n=2, best_of=2, openai_api_key=openai_api_key)"
   ]
  },
  {
   "cell_type": "code",
   "execution_count": 9,
   "id": "693fee78",
   "metadata": {},
   "outputs": [
    {
     "name": "stdout",
     "output_type": "stream",
     "text": [
      "Tokens Used: 0\n",
      "\tPrompt Tokens: 0\n",
      "\tCompletion Tokens: 0\n",
      "Successful Requests: 0\n",
      "Total Cost (USD): $0.0\n"
     ]
    }
   ],
   "source": [
    "with get_openai_callback() as cb:\n",
    "    print(cb)"
   ]
  },
  {
   "cell_type": "code",
   "execution_count": 10,
   "id": "1e3cd615",
   "metadata": {},
   "outputs": [
    {
     "name": "stdout",
     "output_type": "stream",
     "text": [
      "Tokens Used: 42\n",
      "\tPrompt Tokens: 4\n",
      "\tCompletion Tokens: 38\n",
      "Successful Requests: 1\n",
      "Total Cost (USD): $0.00084\n"
     ]
    }
   ],
   "source": [
    "with get_openai_callback() as cb:\n",
    "    result = llm(\"Tell me a joke\")\n",
    "    print(cb)"
   ]
  },
  {
   "cell_type": "markdown",
   "id": "ac57b6a5",
   "metadata": {},
   "source": [
    "Getting attributes of the callback return"
   ]
  },
  {
   "cell_type": "code",
   "execution_count": 11,
   "id": "f0565f53",
   "metadata": {},
   "outputs": [
    {
     "name": "stdout",
     "output_type": "stream",
     "text": [
      "0.00084\n",
      "42\n"
     ]
    }
   ],
   "source": [
    "with get_openai_callback() as cb:\n",
    "    result = llm(\"Tell me a joke\")\n",
    "    print(cb.total_cost)\n",
    "    print(cb.total_tokens)"
   ]
  },
  {
   "cell_type": "markdown",
   "id": "6640f8e1",
   "metadata": {},
   "source": [
    "### Tracking Cost When Using Chain\n",
    "\n",
    "A chain consists of multiple LLM calls, we can track a total of all these costs using the `get_openai_callback` function. Here's an example of how exactly we can do that:"
   ]
  },
  {
   "cell_type": "code",
   "execution_count": 15,
   "id": "0a466675",
   "metadata": {},
   "outputs": [],
   "source": [
    "from langchain.agents import AgentType, load_tools, initialize_agent\n",
    "from langchain.llms import OpenAI\n",
    "\n",
    "\n",
    "llm = OpenAI(openai_api_key=openai_api_key, temperature=0)\n",
    "tools = load_tools([\"llm-math\"], llm=llm)\n",
    "\n",
    "agent = initialize_agent(tools=tools, llm=llm, agent=AgentType.ZERO_SHOT_REACT_DESCRIPTION)"
   ]
  },
  {
   "cell_type": "code",
   "execution_count": 16,
   "id": "885e46d7",
   "metadata": {},
   "outputs": [
    {
     "name": "stdout",
     "output_type": "stream",
     "text": [
      "Tokens Used: 631\n",
      "\tPrompt Tokens: 572\n",
      "\tCompletion Tokens: 59\n",
      "Successful Requests: 3\n",
      "Total Cost (USD): $0.012620000000000003\n"
     ]
    }
   ],
   "source": [
    "with get_openai_callback() as cb:\n",
    "    agent.run(\"What is the product of 5 and 20\")\n",
    "    print(cb)"
   ]
  },
  {
   "cell_type": "code",
   "execution_count": 18,
   "id": "8a7aeb85",
   "metadata": {},
   "outputs": [
    {
     "name": "stdout",
     "output_type": "stream",
     "text": [
      "The product of 5 and 20 is 100.\n",
      "Total Tokens: 631\n",
      "Prompt Tokens: 572\n",
      "Completion Tokens: 59\n",
      "Total Cost (USD): $0.012620000000000003\n"
     ]
    }
   ],
   "source": [
    "with get_openai_callback() as cb:\n",
    "    response = agent.run(\"What is the product of 5 and 20\")\n",
    "    print(response)\n",
    "    print(f\"Total Tokens: {cb.total_tokens}\")\n",
    "    print(f\"Prompt Tokens: {cb.prompt_tokens}\")\n",
    "    print(f\"Completion Tokens: {cb.completion_tokens}\")\n",
    "    print(f\"Total Cost (USD): ${cb.total_cost}\")"
   ]
  },
  {
   "cell_type": "code",
   "execution_count": null,
   "id": "1b5e88e9",
   "metadata": {},
   "outputs": [],
   "source": []
  }
 ],
 "metadata": {
  "kernelspec": {
   "display_name": "Python 3 (ipykernel)",
   "language": "python",
   "name": "python3"
  },
  "language_info": {
   "codemirror_mode": {
    "name": "ipython",
    "version": 3
   },
   "file_extension": ".py",
   "mimetype": "text/x-python",
   "name": "python",
   "nbconvert_exporter": "python",
   "pygments_lexer": "ipython3",
   "version": "3.11.4"
  }
 },
 "nbformat": 4,
 "nbformat_minor": 5
}
